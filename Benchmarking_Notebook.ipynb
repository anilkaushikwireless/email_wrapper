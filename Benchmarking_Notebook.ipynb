{
  "nbformat": 4,
  "nbformat_minor": 0,
  "metadata": {
    "kernelspec": {
      "name": "python3",
      "display_name": "Python 3"
    },
    "language_info": {
      "codemirror_mode": {
        "name": "ipython",
        "version": 3
      },
      "file_extension": ".py",
      "mimetype": "text/x-python",
      "name": "python",
      "nbconvert_exporter": "python",
      "pygments_lexer": "ipython3",
      "version": "3.7.5"
    },
    "colab": {
      "name": "Benchmarking Notebook.ipynb",
      "provenance": [],
      "collapsed_sections": [],
      "toc_visible": true,
      "machine_shape": "hm",
      "include_colab_link": true
    },
    "accelerator": "TPU"
  },
  "cells": [
    {
      "cell_type": "markdown",
      "metadata": {
        "id": "view-in-github",
        "colab_type": "text"
      },
      "source": [
        "<a href=\"https://colab.research.google.com/github/anilkaushikwireless/email_wrapper/blob/master/Benchmarking_Notebook.ipynb\" target=\"_parent\"><img src=\"https://colab.research.google.com/assets/colab-badge.svg\" alt=\"Open In Colab\"/></a>"
      ]
    },
    {
      "cell_type": "markdown",
      "metadata": {
        "id": "5hhAFGbnLe_9",
        "colab_type": "text"
      },
      "source": [
        "## Sentiment Analysis\n",
        "> First we train the Convolutional Neural Network on 'training_20k.txt' or 'training_50k.txt'. The CNN model returns accuracy. After the training, a pickle file is saved of the model.\n",
        "This pickle file is used to test the performance of model on unseen data.\n",
        "> To run on augmented data change train file name.\n",
        "\n",
        "* The difference between training and unseen data accuracy should be minimum. UNSEEN ACCURACY can be lower than training."
      ]
    },
    {
      "cell_type": "code",
      "metadata": {
        "id": "Z9xlBdesLe__",
        "colab_type": "code",
        "outputId": "6c119323-38d4-4259-cc4f-9acb33d2c841",
        "colab": {
          "base_uri": "https://localhost:8080/",
          "height": 80
        }
      },
      "source": [
        "from keras.layers.core import Dense, Activation, Dropout\n",
        "from keras.layers.recurrent import LSTM\n",
        "from keras.layers import Bidirectional\n",
        "import keras.layers as layers\n",
        "from keras.models import Sequential\n",
        "from keras.models import load_model\n",
        "from keras.callbacks import EarlyStopping\n",
        "from sklearn.utils import shuffle\n",
        "from sklearn.metrics import accuracy_score\n",
        "import pandas as pd\n",
        "import math\n",
        "import time\n",
        "import numpy as np\n",
        "import random\n",
        "from random import randint\n",
        "random.seed(3)\n",
        "import datetime, re, operator\n",
        "from random import shuffle\n",
        "from time import gmtime, strftime\n",
        "import gc\n",
        "import joblib\n",
        "import os\n",
        "os.environ['TF_CPP_MIN_LOG_LEVEL'] = '3' #get rid of warnings\n",
        "from os import listdir\n",
        "from os.path import isfile, join, isdir\n",
        "import pickle\n",
        "import csv"
      ],
      "execution_count": 1,
      "outputs": [
        {
          "output_type": "stream",
          "text": [
            "Using TensorFlow backend.\n"
          ],
          "name": "stderr"
        },
        {
          "output_type": "display_data",
          "data": {
            "text/html": [
              "<p style=\"color: red;\">\n",
              "The default version of TensorFlow in Colab will soon switch to TensorFlow 2.x.<br>\n",
              "We recommend you <a href=\"https://www.tensorflow.org/guide/migrate\" target=\"_blank\">upgrade</a> now \n",
              "or ensure your notebook will continue to use TensorFlow 1.x via the <code>%tensorflow_version 1.x</code> magic:\n",
              "<a href=\"https://colab.research.google.com/notebooks/tensorflow_version.ipynb\" target=\"_blank\">more info</a>.</p>\n"
            ],
            "text/plain": [
              "<IPython.core.display.HTML object>"
            ]
          },
          "metadata": {
            "tags": []
          }
        }
      ]
    },
    {
      "cell_type": "code",
      "metadata": {
        "id": "zdAFXfSlLfAF",
        "colab_type": "code",
        "colab": {}
      },
      "source": [
        "#--------------------------------------------------\n",
        "#--Globals------------------------------------------\n",
        "num_classes=2\n",
        "input_size=50\n",
        "word2vec_len=300\n",
        "percent_dataset=0.1\n",
        "sentiment_analysis_path = 'benchmarks/data/sentiment_analysis/'\n",
        "huge_word2vec = 'glove.840B.300d.txt'\n",
        "train_file = os.path.join(sentiment_analysis_path,'training_20k.txt')\n",
        "test_file = os.path.join(sentiment_analysis_path,'testing.txt')\n",
        "unseen_data = os.path.join(sentiment_analysis_path,'unseen_original.csv')\n",
        "unseen_test_csv = os.path.join(sentiment_analysis_path,'unseen_test.csv')\n",
        "unseen_test_txt = os.path.join(sentiment_analysis_path,\"unseen_test.txt\")\n",
        "#------------------------------------------------------\n",
        "#---------------------------------------------------"
      ],
      "execution_count": 0,
      "outputs": []
    },
    {
      "cell_type": "code",
      "metadata": {
        "id": "6qiYG3u8LfAJ",
        "colab_type": "code",
        "colab": {}
      },
      "source": [
        "def load_pickle(file):\n",
        "    return pickle.load(open(file, 'rb'))"
      ],
      "execution_count": 0,
      "outputs": []
    },
    {
      "cell_type": "markdown",
      "metadata": {
        "id": "mwK_vIm8LfAM",
        "colab_type": "text"
      },
      "source": [
        "##### Download word2vec (File Size - 5.2GB)"
      ]
    },
    {
      "cell_type": "code",
      "metadata": {
        "id": "g3Jl1R4ULfAN",
        "colab_type": "code",
        "outputId": "c7562ed8-f57b-4e15-bc3c-322e5fdadffe",
        "colab": {
          "base_uri": "https://localhost:8080/",
          "height": 34
        }
      },
      "source": [
        "\n",
        "from google.colab import drive\n",
        "drive.mount('/content/drive', force_remount=True)\n"
      ],
      "execution_count": 4,
      "outputs": [
        {
          "output_type": "stream",
          "text": [
            "Mounted at /content/drive\n"
          ],
          "name": "stdout"
        }
      ]
    },
    {
      "cell_type": "code",
      "metadata": {
        "id": "TXpQiCt6LfAR",
        "colab_type": "code",
        "colab": {}
      },
      "source": [
        "import os\n",
        "os.chdir(\"drive/My Drive/\")\n",
        "#!unzip 'benchmarks/notebooks/glove.840B.300d.zip'"
      ],
      "execution_count": 0,
      "outputs": []
    },
    {
      "cell_type": "code",
      "metadata": {
        "id": "_OcjzIDeLfAU",
        "colab_type": "code",
        "colab": {}
      },
      "source": [
        "def gen_vocab_dicts(output_pickle_path, huge_word2vec,train_file):\n",
        "\n",
        "    vocab = set()\n",
        "    text_embeddings = open(huge_word2vec, 'r').readlines()\n",
        "    word2vec = {}\n",
        "    try:\n",
        "        all_lines = open(train_file, \"r\").readlines()\n",
        "        for line in all_lines:\n",
        "            words = line[:-1].split(' ')\n",
        "            for word in words:\n",
        "                vocab.add(word)\n",
        "    except:\n",
        "        print(txt_path, \"has an error\")\n",
        "    \n",
        "    print(len(vocab), \"unique words found\")\n",
        "\n",
        "    # load the word embeddings, and only add the word to the dictionary if we need it\n",
        "    for line in text_embeddings:\n",
        "        items = line.split(' ')\n",
        "        word = items[0]\n",
        "        if word in vocab:\n",
        "            vec = items[1:]\n",
        "            word2vec[word] = np.asarray(vec, dtype = 'float32')\n",
        "    print(len(word2vec), \"matches between unique words and word2vec dictionary\")\n",
        "        \n",
        "    pickle.dump(word2vec, open(output_pickle_path, 'wb'))\n",
        "    print(\"dictionaries outputted to\", output_pickle_path)"
      ],
      "execution_count": 0,
      "outputs": []
    },
    {
      "cell_type": "code",
      "metadata": {
        "id": "615IdNTwLfAX",
        "colab_type": "code",
        "colab": {}
      },
      "source": [
        "#gen_vocab_dicts('word2vec.p',huge_word2vec,train_file)"
      ],
      "execution_count": 0,
      "outputs": []
    },
    {
      "cell_type": "code",
      "metadata": {
        "id": "uPWQATUvLfAa",
        "colab_type": "code",
        "colab": {}
      },
      "source": [
        "word2vec_pickle ='benchmarks/notebooks/word2vec.p'\n",
        "word2vec = load_pickle(word2vec_pickle)"
      ],
      "execution_count": 0,
      "outputs": []
    },
    {
      "cell_type": "code",
      "metadata": {
        "id": "0FveX9ByLfAc",
        "colab_type": "code",
        "colab": {}
      },
      "source": [
        "def run_cnn(train_file, test_file, num_classes, percent_dataset):\n",
        "    \n",
        "    #initialize model\n",
        "    #model = build_cnn(input_size, word2vec_len, num_classes)\n",
        "    \n",
        "    #load data\n",
        "    train_x, train_y = get_x_y(train_file, num_classes, word2vec_len, input_size, word2vec, percent_dataset)\n",
        "    test_x, test_y = get_x_y(test_file, num_classes, word2vec_len, input_size, word2vec, 1)\n",
        "    \n",
        "    #implement early stopping\n",
        "    #callbacks = [EarlyStopping(monitor='val_loss', patience=3)]\n",
        "    \n",
        "    #train model\n",
        "    model.fit(train_x, \n",
        "              train_y, \n",
        "              epochs=10000000, \n",
        "              callbacks=callbacks,\n",
        "             validation_split=0.1, \n",
        "              batch_size=1024, \n",
        "              shuffle=True, \n",
        "              verbose=0)\n",
        "    pickle.dump(model, open('benchmarks/models/trained_model.pkl', 'wb'))\n",
        "    #evaluate model\n",
        "    #print(type(test_x))\n",
        "    #print(test_x)\n",
        "    y_pred = model.predict(test_x)\n",
        "    test_y_cat = one_hot_to_categorical(test_y)\n",
        "    y_pred_cat = one_hot_to_categorical(y_pred)\n",
        "    acc = accuracy_score(test_y_cat, y_pred_cat)\n",
        "    #clean memory\n",
        "    train_x, train_y, test_x, test_y, model = None, None, None, None, None\n",
        "    gc.collect()\n",
        "    \n",
        "    #return the accuracy\n",
        "    #print(\"data with shape:\", train_x.shape, train_y.shape, 'train=', train_file, 'test=', test_file, 'with fraction', percent_dataset, 'had acc', acc\n",
        "    return acc*100"
      ],
      "execution_count": 0,
      "outputs": []
    },
    {
      "cell_type": "markdown",
      "metadata": {
        "id": "UUlVpuIxLfAe",
        "colab_type": "text"
      },
      "source": [
        "### Convolutional Neural Network"
      ]
    },
    {
      "cell_type": "code",
      "metadata": {
        "id": "k_xmrMSmLfAf",
        "colab_type": "code",
        "colab": {}
      },
      "source": [
        "def build_cnn(sentence_length, word2vec_len, num_classes):\n",
        "    model = None\n",
        "    model = Sequential()\n",
        "    model.add(layers.Conv1D(128, 5, activation='relu', input_shape=(sentence_length, word2vec_len)))\n",
        "    model.add(layers.GlobalMaxPooling1D())\n",
        "    model.add(Dense(20, activation='relu'))\n",
        "    model.add(Dense(num_classes, kernel_initializer='normal', activation='softmax'))\n",
        "    model.compile(loss='categorical_crossentropy', optimizer='adam', metrics=['accuracy','binary_accuracy','categorical_accuracy'])\n",
        "    return model"
      ],
      "execution_count": 0,
      "outputs": []
    },
    {
      "cell_type": "code",
      "metadata": {
        "id": "KK1f-6iELfAi",
        "colab_type": "code",
        "colab": {}
      },
      "source": [
        "def get_x_y(train_txt, num_classes, word2vec_len, input_size, word2vec, percent_dataset):\n",
        "    \n",
        "    #read in lines\n",
        "    #print(train_txt)\n",
        "    train_lines = open(train_txt, 'r').readlines()\n",
        "    shuffle(train_lines)\n",
        "    train_lines = train_lines[:int(percent_dataset*len(train_lines))]\n",
        "    num_lines = len(train_lines)\n",
        "    \n",
        "    #initialize x and y matrix\n",
        "    x_matrix = None\n",
        "    y_matrix = None\n",
        "    try:\n",
        "        x_matrix = np.zeros((num_lines, input_size, word2vec_len))\n",
        "    except:\n",
        "        print(\"Error!\", num_lines, input_size, word2vec_len)\n",
        "    y_matrix = np.zeros((num_lines, num_classes))\n",
        "    \n",
        "    #insert values\n",
        "    for i, line in enumerate(train_lines):\n",
        "        parts = line[:-1].split('\\t')\n",
        "        label = int(parts[0])\n",
        "        sentence = parts[1]\n",
        "        \n",
        "        #insert x\n",
        "        words = sentence.split(' ')\n",
        "        words = words[:x_matrix.shape[1]] #cut off if too long\n",
        "        for j, word in enumerate(words):\n",
        "            if word in word2vec:\n",
        "                x_matrix[i, j, :] = word2vec[word]\n",
        "        \n",
        "        #insert y\n",
        "        y_matrix[i][label] = 1.0\n",
        "    return x_matrix, y_matrix"
      ],
      "execution_count": 0,
      "outputs": []
    },
    {
      "cell_type": "code",
      "metadata": {
        "id": "2Nukb_tSLfAk",
        "colab_type": "code",
        "colab": {}
      },
      "source": [
        "def one_hot_to_categorical(y):\n",
        "    assert len(y.shape) == 2\n",
        "    return np.argmax(y, axis=1)"
      ],
      "execution_count": 0,
      "outputs": []
    },
    {
      "cell_type": "code",
      "metadata": {
        "id": "4GFRJlfqLfAm",
        "colab_type": "code",
        "colab": {}
      },
      "source": [
        "#train_accuracy = run_cnn(train_file,test_file,num_classes,percent_dataset)"
      ],
      "execution_count": 0,
      "outputs": []
    },
    {
      "cell_type": "markdown",
      "metadata": {
        "id": "utItagSHLfAn",
        "colab_type": "text"
      },
      "source": [
        "----"
      ]
    },
    {
      "cell_type": "markdown",
      "metadata": {
        "id": "NFmWheWg8yba",
        "colab_type": "text"
      },
      "source": [
        "# Evaluating the Model\n"
      ]
    },
    {
      "cell_type": "markdown",
      "metadata": {
        "id": "z9rOfr_ILfAo",
        "colab_type": "text"
      },
      "source": [
        "## Testing on unseen data"
      ]
    },
    {
      "cell_type": "code",
      "metadata": {
        "id": "DelOq3mBLfAo",
        "colab_type": "code",
        "colab": {}
      },
      "source": [
        "import csv\n",
        "file = unseen_test_csv\n",
        "file_name, file_ext = os.path.splitext(file)\n",
        "with open(file,'r') as csv_file:\n",
        "    csv_reader = csv.reader(csv_file)\n",
        "    next(csv_reader)\n",
        "    newfile = unseen_test_txt\n",
        "\n",
        "    for line in csv_reader:\n",
        "        with open(newfile, 'a') as new_txt:    #new file has .txt extn\n",
        "            txt_writer = csv.writer(new_txt, delimiter = '\\t') #writefile\n",
        "            txt_writer.writerow(line)  "
      ],
      "execution_count": 0,
      "outputs": []
    },
    {
      "cell_type": "code",
      "metadata": {
        "id": "q7CqsULXLfAq",
        "colab_type": "code",
        "colab": {}
      },
      "source": [
        "def plot_confusion_matrix(cm,\n",
        "                          target_names,\n",
        "                          title='Confusion matrix',\n",
        "                          cmap=None,\n",
        "                          normalize=True):\n",
        "    \"\"\"\n",
        "    given a sklearn confusion matrix (cm), make a nice plot\n",
        "\n",
        "    Arguments\n",
        "    ---------\n",
        "    cm:           confusion matrix from sklearn.metrics.confusion_matrix\n",
        "\n",
        "    target_names: given classification classes such as [0, 1, 2]\n",
        "                  the class names, for example: ['high', 'medium', 'low']\n",
        "\n",
        "    title:        the text to display at the top of the matrix\n",
        "\n",
        "    cmap:         the gradient of the values displayed from matplotlib.pyplot.cm\n",
        "                  see http://matplotlib.org/examples/color/colormaps_reference.html\n",
        "                  plt.get_cmap('jet') or plt.cm.Blues\n",
        "\n",
        "    normalize:    If False, plot the raw numbers\n",
        "                  If True, plot the proportions\n",
        "\n",
        "    Usage\n",
        "    -----\n",
        "    plot_confusion_matrix(cm           = cm,                  # confusion matrix created by\n",
        "                                                              # sklearn.metrics.confusion_matrix\n",
        "                          normalize    = True,                # show proportions\n",
        "                          target_names = y_labels_vals,       # list of names of the classes\n",
        "                          title        = best_estimator_name) # title of graph\n",
        "\n",
        "    Citiation\n",
        "    ---------\n",
        "    http://scikit-learn.org/stable/auto_examples/model_selection/plot_confusion_matrix.html\n",
        "\n",
        "    \"\"\"\n",
        "    import matplotlib.pyplot as plt\n",
        "    import numpy as np\n",
        "    import itertools\n",
        "\n",
        "    accuracy = np.trace(cm) / float(np.sum(cm))\n",
        "    misclass = 1 - accuracy\n",
        "\n",
        "    if cmap is None:\n",
        "        cmap = plt.get_cmap('Blues')\n",
        "\n",
        "    plt.figure(figsize=(8, 6))\n",
        "    plt.imshow(cm, interpolation='nearest', cmap=cmap)\n",
        "    plt.title(title)\n",
        "    plt.colorbar()\n",
        "\n",
        "    if target_names is not None:\n",
        "        tick_marks = np.arange(len(target_names))\n",
        "        plt.xticks(tick_marks, target_names, rotation=45)\n",
        "        plt.yticks(tick_marks, target_names)\n",
        "\n",
        "    if normalize:\n",
        "        cm = cm.astype('float') / cm.sum(axis=1)[:, np.newaxis]\n",
        "\n",
        "\n",
        "    thresh = cm.max() / 1.5 if normalize else cm.max() / 2\n",
        "    for i, j in itertools.product(range(cm.shape[0]), range(cm.shape[1])):\n",
        "        if normalize:\n",
        "            plt.text(j, i, \"{:0.4f}\".format(cm[i, j]),\n",
        "                     horizontalalignment=\"center\",\n",
        "                     color=\"white\" if cm[i, j] > thresh else \"black\")\n",
        "        else:\n",
        "            plt.text(j, i, \"{:,}\".format(cm[i, j]),\n",
        "                     horizontalalignment=\"center\",\n",
        "                     color=\"white\" if cm[i, j] > thresh else \"black\")\n",
        "\n",
        "\n",
        "    plt.tight_layout()\n",
        "    plt.ylabel('True label')\n",
        "    plt.xlabel('Predicted label\\naccuracy={:0.4f}; misclass={:0.4f}'.format(accuracy, misclass))\n",
        "    plt.show()"
      ],
      "execution_count": 0,
      "outputs": []
    },
    {
      "cell_type": "code",
      "metadata": {
        "id": "m07-uJebLfAr",
        "colab_type": "code",
        "colab": {}
      },
      "source": [
        "test_x, test_y = get_x_y(unseen_test_txt, num_classes, word2vec_len, input_size, word2vec, .5)"
      ],
      "execution_count": 0,
      "outputs": []
    },
    {
      "cell_type": "code",
      "metadata": {
        "id": "XvOMlj9TLfAt",
        "colab_type": "code",
        "colab": {
          "base_uri": "https://localhost:8080/",
          "height": 1000
        },
        "outputId": "d7fa7d0a-bdff-4c59-8866-85b3b7aba717"
      },
      "source": [
        "model=joblib.load('benchmarks/models/trained_model.pkl')\n",
        "y_pred=model.predict(test_x)\n",
        "test_y_cat = one_hot_to_categorical(test_y)\n",
        "y_pred_cat = one_hot_to_categorical(y_pred)\n",
        "unseenDataAccuracy = abs(accuracy_score(test_y_cat, y_pred_cat)*100)\n",
        "print(\"Training Accuracy - {} \\n Unseen Data Accuracy - {}\".format(\"84\",unseenDataAccuracy))\n",
        "from sklearn.metrics import classification_report\n",
        "print(classification_report(test_y_cat, y_pred_cat))\n",
        "from sklearn.metrics import confusion_matrix\n",
        "print(\"confusion matrix\")\n",
        "cmatrix=confusion_matrix(test_y_cat, y_pred_cat)\n",
        "print(cmatrix)\n",
        "plot_confusion_matrix(cmatrix, \n",
        "                      normalize    = False,\n",
        "                      target_names = ['1', '0'],\n",
        "                      title        = \"Confusion Matrix\")\n",
        "\n",
        "          \n",
        "\n",
        "\n",
        "\n",
        "\n"
      ],
      "execution_count": 17,
      "outputs": [
        {
          "output_type": "stream",
          "text": [
            "WARNING:tensorflow:From /usr/local/lib/python3.6/dist-packages/keras/backend/tensorflow_backend.py:541: The name tf.placeholder is deprecated. Please use tf.compat.v1.placeholder instead.\n",
            "\n",
            "WARNING:tensorflow:From /usr/local/lib/python3.6/dist-packages/keras/backend/tensorflow_backend.py:4432: The name tf.random_uniform is deprecated. Please use tf.random.uniform instead.\n",
            "\n",
            "WARNING:tensorflow:From /usr/local/lib/python3.6/dist-packages/keras/backend/tensorflow_backend.py:4409: The name tf.random_normal is deprecated. Please use tf.random.normal instead.\n",
            "\n",
            "WARNING:tensorflow:From /usr/local/lib/python3.6/dist-packages/keras/backend/tensorflow_backend.py:190: The name tf.get_default_session is deprecated. Please use tf.compat.v1.get_default_session instead.\n",
            "\n",
            "WARNING:tensorflow:From /usr/local/lib/python3.6/dist-packages/keras/backend/tensorflow_backend.py:197: The name tf.ConfigProto is deprecated. Please use tf.compat.v1.ConfigProto instead.\n",
            "\n",
            "WARNING:tensorflow:From /usr/local/lib/python3.6/dist-packages/keras/backend/tensorflow_backend.py:203: The name tf.Session is deprecated. Please use tf.compat.v1.Session instead.\n",
            "\n",
            "WARNING:tensorflow:From /usr/local/lib/python3.6/dist-packages/keras/backend/tensorflow_backend.py:207: The name tf.global_variables is deprecated. Please use tf.compat.v1.global_variables instead.\n",
            "\n",
            "WARNING:tensorflow:From /usr/local/lib/python3.6/dist-packages/keras/backend/tensorflow_backend.py:216: The name tf.is_variable_initialized is deprecated. Please use tf.compat.v1.is_variable_initialized instead.\n",
            "\n",
            "WARNING:tensorflow:From /usr/local/lib/python3.6/dist-packages/keras/backend/tensorflow_backend.py:223: The name tf.variables_initializer is deprecated. Please use tf.compat.v1.variables_initializer instead.\n",
            "\n",
            "WARNING:tensorflow:From /usr/local/lib/python3.6/dist-packages/keras/optimizers.py:793: The name tf.train.Optimizer is deprecated. Please use tf.compat.v1.train.Optimizer instead.\n",
            "\n",
            "WARNING:tensorflow:From /usr/local/lib/python3.6/dist-packages/keras/backend/tensorflow_backend.py:3576: The name tf.log is deprecated. Please use tf.math.log instead.\n",
            "\n",
            "WARNING:tensorflow:From /usr/local/lib/python3.6/dist-packages/tensorflow_core/python/ops/math_grad.py:1424: where (from tensorflow.python.ops.array_ops) is deprecated and will be removed in a future version.\n",
            "Instructions for updating:\n",
            "Use tf.where in 2.0, which has the same broadcast rule as np.where\n",
            "WARNING:tensorflow:From /usr/local/lib/python3.6/dist-packages/keras/backend/tensorflow_backend.py:1033: The name tf.assign_add is deprecated. Please use tf.compat.v1.assign_add instead.\n",
            "\n",
            "WARNING:tensorflow:From /usr/local/lib/python3.6/dist-packages/keras/backend/tensorflow_backend.py:1020: The name tf.assign is deprecated. Please use tf.compat.v1.assign instead.\n",
            "\n",
            "Training Accuracy - 84 \n",
            " Unseen Data Accuracy - 82.78298800436204\n"
          ],
          "name": "stdout"
        },
        {
          "output_type": "stream",
          "text": [
            "/usr/local/lib/python3.6/dist-packages/sklearn/metrics/_classification.py:1272: UndefinedMetricWarning: Precision and F-score are ill-defined and being set to 0.0 in labels with no predicted samples. Use `zero_division` parameter to control this behavior.\n",
            "  _warn_prf(average, modifier, msg_start, len(result))\n"
          ],
          "name": "stderr"
        },
        {
          "output_type": "stream",
          "text": [
            "              precision    recall  f1-score   support\n",
            "\n",
            "           0       0.00      0.00      0.00     51311\n",
            "           1       0.83      1.00      0.91    246714\n",
            "\n",
            "    accuracy                           0.83    298025\n",
            "   macro avg       0.41      0.50      0.45    298025\n",
            "weighted avg       0.69      0.83      0.75    298025\n",
            "\n",
            "confusion matrix\n",
            "[[     0  51311]\n",
            " [     0 246714]]\n"
          ],
          "name": "stdout"
        },
        {
          "output_type": "display_data",
          "data": {
            "image/png": "[encoded data removed]",
            "text/plain": [
              "<Figure size 576x432 with 2 Axes>"
            ]
          },
          "metadata": {
            "tags": []
          }
        }
      ]
    }
  ]
}